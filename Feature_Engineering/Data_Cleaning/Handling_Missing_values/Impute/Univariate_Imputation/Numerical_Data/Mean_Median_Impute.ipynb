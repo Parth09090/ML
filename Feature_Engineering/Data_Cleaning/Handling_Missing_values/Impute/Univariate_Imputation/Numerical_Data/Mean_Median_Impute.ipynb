{
 "cells": [
  {
   "cell_type": "code",
   "execution_count": 1,
   "id": "7f704a6a-02ee-43a8-a268-c63029b30db4",
   "metadata": {},
   "outputs": [],
   "source": [
    "import numpy as np\n",
    "import pandas as pd"
   ]
  },
  {
   "cell_type": "code",
   "execution_count": 2,
   "id": "a70ed49a-3cc2-4164-8548-c0b2f63e3f56",
   "metadata": {},
   "outputs": [],
   "source": [
    "df = pd.read_csv('titanic_toy.csv')"
   ]
  },
  {
   "cell_type": "code",
   "execution_count": 5,
   "id": "ff5f9113-0e31-4369-a8de-882928e4791a",
   "metadata": {},
   "outputs": [
    {
     "data": {
      "text/html": [
       "<div>\n",
       "<style scoped>\n",
       "    .dataframe tbody tr th:only-of-type {\n",
       "        vertical-align: middle;\n",
       "    }\n",
       "\n",
       "    .dataframe tbody tr th {\n",
       "        vertical-align: top;\n",
       "    }\n",
       "\n",
       "    .dataframe thead th {\n",
       "        text-align: right;\n",
       "    }\n",
       "</style>\n",
       "<table border=\"1\" class=\"dataframe\">\n",
       "  <thead>\n",
       "    <tr style=\"text-align: right;\">\n",
       "      <th></th>\n",
       "      <th>Age</th>\n",
       "      <th>Fare</th>\n",
       "      <th>Family</th>\n",
       "      <th>Survived</th>\n",
       "    </tr>\n",
       "  </thead>\n",
       "  <tbody>\n",
       "    <tr>\n",
       "      <th>201</th>\n",
       "      <td>NaN</td>\n",
       "      <td>69.550</td>\n",
       "      <td>10</td>\n",
       "      <td>0</td>\n",
       "    </tr>\n",
       "    <tr>\n",
       "      <th>241</th>\n",
       "      <td>NaN</td>\n",
       "      <td>15.500</td>\n",
       "      <td>1</td>\n",
       "      <td>1</td>\n",
       "    </tr>\n",
       "    <tr>\n",
       "      <th>199</th>\n",
       "      <td>24.0</td>\n",
       "      <td>13.000</td>\n",
       "      <td>0</td>\n",
       "      <td>0</td>\n",
       "    </tr>\n",
       "    <tr>\n",
       "      <th>542</th>\n",
       "      <td>11.0</td>\n",
       "      <td>31.275</td>\n",
       "      <td>6</td>\n",
       "      <td>0</td>\n",
       "    </tr>\n",
       "    <tr>\n",
       "      <th>480</th>\n",
       "      <td>9.0</td>\n",
       "      <td>46.900</td>\n",
       "      <td>7</td>\n",
       "      <td>0</td>\n",
       "    </tr>\n",
       "  </tbody>\n",
       "</table>\n",
       "</div>"
      ],
      "text/plain": [
       "      Age    Fare  Family  Survived\n",
       "201   NaN  69.550      10         0\n",
       "241   NaN  15.500       1         1\n",
       "199  24.0  13.000       0         0\n",
       "542  11.0  31.275       6         0\n",
       "480   9.0  46.900       7         0"
      ]
     },
     "execution_count": 5,
     "metadata": {},
     "output_type": "execute_result"
    }
   ],
   "source": [
    "df.sample(5)"
   ]
  },
  {
   "cell_type": "code",
   "execution_count": 13,
   "id": "88d23317-434b-448b-a901-ef8a68887166",
   "metadata": {},
   "outputs": [],
   "source": [
    "from sklearn.model_selection import train_test_split\n",
    "df.isnull().mean()*100\n",
    "X = df.drop(columns=['Survived'])\n",
    "y = df['Survived']\n",
    "X_train,X_test,y_train,y_test = train_test_split(X,y,test_size=0.2,random_state=2)"
   ]
  },
  {
   "cell_type": "code",
   "execution_count": 14,
   "id": "5cd05278-5e4c-4a0c-b13c-481126795944",
   "metadata": {},
   "outputs": [
    {
     "data": {
      "text/plain": [
       "Age       20.786517\n",
       "Fare       5.056180\n",
       "Family     0.000000\n",
       "dtype: float64"
      ]
     },
     "execution_count": 14,
     "metadata": {},
     "output_type": "execute_result"
    }
   ],
   "source": [
    "X_train.isnull().mean()*100"
   ]
  },
  {
   "cell_type": "markdown",
   "id": "7bb0eb97-a0bf-4112-bb4b-e6d90d01e551",
   "metadata": {},
   "source": [
    "# Imputation using pandas "
   ]
  },
  {
   "cell_type": "markdown",
   "id": "caaedec4-e014-456a-8ab7-c30cf438f63d",
   "metadata": {},
   "source": [
    "## For age col"
   ]
  },
  {
   "cell_type": "code",
   "execution_count": 17,
   "id": "fdea59ca-35d9-41a0-9663-e6cc155e52aa",
   "metadata": {},
   "outputs": [],
   "source": [
    "mean_age = X_train['Age'].mean()\n",
    "median_age = X_train['Age'].median()\n",
    "mean_fare = X_train['Fare'].mean()\n",
    "median_fare = X_train['Fare'].median()"
   ]
  },
  {
   "cell_type": "markdown",
   "id": "9ccfba20-1366-44d6-84e6-008f4f2549c0",
   "metadata": {},
   "source": [
    " Adding imputed columns in df"
   ]
  },
  {
   "cell_type": "code",
   "execution_count": 18,
   "id": "d62a614a-7b83-4a13-8df7-ac5c0e426165",
   "metadata": {},
   "outputs": [],
   "source": [
    "X_train['Imputed_Age_mean']=X_train['Age'].fillna(mean_age)\n",
    "X_train['Imputed_Age_median']=X_train['Age'].fillna(median_age)\n",
    "X_train['Imputed_Fare_mean']=X_train['Fare'].fillna(mean_age)\n",
    "X_train['Imputed_Fare_median']=X_train['Fare'].fillna(median_age)"
   ]
  },
  {
   "cell_type": "markdown",
   "id": "a80614f3-c536-4e73-9ead-56657e45dcf2",
   "metadata": {},
   "source": [
    "X_train.sample(5)"
   ]
  },
  {
   "cell_type": "markdown",
   "id": "b4b55a55-2f47-4032-ba92-1a409353f9e8",
   "metadata": {},
   "source": [
    "### Now we will check what effects imputation has made on outliers,distribution,covarianace with other cols"
   ]
  },
  {
   "cell_type": "markdown",
   "id": "3a15b966-c2b5-4687-9752-c1494f466636",
   "metadata": {},
   "source": [
    "1] Checking change in variance"
   ]
  },
  {
   "cell_type": "code",
   "execution_count": 22,
   "id": "728af2b3-b787-4549-9ed9-2e63c6ca6b14",
   "metadata": {},
   "outputs": [
    {
     "name": "stdout",
     "output_type": "stream",
     "text": [
      "Original Age variable variance:  204.3495133904614\n",
      "Age Variance after median imputation:  161.9895663346054\n",
      "Age Variance after mean imputation:  161.81262452718673\n",
      "Original Fare variable variance:  2448.197913706318\n",
      "Fare Variance after median imputation:  2324.9576136149317\n",
      "Fare Variance after mean imputation:  2324.623996772905\n"
     ]
    }
   ],
   "source": [
    "print('Original Age variable variance: ', X_train['Age'].var())\n",
    "print('Age Variance after median imputation: ', X_train['Imputed_Age_median'].var())\n",
    "print('Age Variance after mean imputation: ', X_train['Imputed_Age_mean'].var())\n",
    "\n",
    "print('Original Fare variable variance: ', X_train['Fare'].var())\n",
    "print('Fare Variance after median imputation: ', X_train['Imputed_Fare_median'].var())\n",
    "print('Fare Variance after mean imputation: ', X_train['Imputed_Fare_mean'].var())"
   ]
  },
  {
   "cell_type": "markdown",
   "id": "b1ba1e1d-9971-432e-aba8-21885eddba7e",
   "metadata": {},
   "source": [
    "2] Checking changes in distribution"
   ]
  },
  {
   "cell_type": "code",
   "execution_count": 26,
   "id": "931552df-b42f-4beb-9433-864d1ef2d556",
   "metadata": {},
   "outputs": [
    {
     "data": {
      "text/plain": [
       "<matplotlib.legend.Legend at 0x1a78e513450>"
      ]
     },
     "execution_count": 26,
     "metadata": {},
     "output_type": "execute_result"
    },
    {
     "data": {
      "image/png": "[encoded data removed]",
      "text/plain": [
       "<Figure size 640x480 with 1 Axes>"
      ]
     },
     "metadata": {},
     "output_type": "display_data"
    }
   ],
   "source": [
    "import matplotlib.pyplot as plt\n",
    "fig = plt.figure()\n",
    "ax = fig.add_subplot(111)\n",
    "\n",
    "# original variable distribution\n",
    "X_train['Age'].plot(kind='kde', ax=ax)\n",
    "\n",
    "# variable imputed with the median\n",
    "X_train['Imputed_Age_median'].plot(kind='kde', ax=ax, color='red')\n",
    "\n",
    "# variable imputed with the mean\n",
    "X_train['Imputed_Age_mean'].plot(kind='kde', ax=ax, color='green')\n",
    "\n",
    "# add legends\n",
    "lines, labels = ax.get_legend_handles_labels()\n",
    "ax.legend(lines, labels, loc='best')"
   ]
  },
  {
   "cell_type": "code",
   "execution_count": 31,
   "id": "b5bbe38c-1d4b-4134-809b-837b3684cb8c",
   "metadata": {},
   "outputs": [
    {
     "data": {
      "text/plain": [
       "<matplotlib.legend.Legend at 0x1a78e764f90>"
      ]
     },
     "execution_count": 31,
     "metadata": {},
     "output_type": "execute_result"
    },
    {
     "data": {
      "image/png": "[encoded data removed]",
      "text/plain": [
       "<Figure size 640x480 with 1 Axes>"
      ]
     },
     "metadata": {},
     "output_type": "display_data"
    }
   ],
   "source": [
    "fig = plt.figure()\n",
    "ax = fig.add_subplot(111)\n",
    "\n",
    "X_train['Fare'].plot(kind='kde',ax=ax)\n",
    "X_train['Imputed_Fare_median'].plot(kind='kde',ax=ax,color='red')\n",
    "X_train['Imputed_Fare_mean'].plot(kind='kde',ax=ax,color='green')\n",
    "\n",
    "# add legends\n",
    "lines, labels = ax.get_legend_handles_labels()\n",
    "ax.legend(lines, labels, loc='best')"
   ]
  },
  {
   "cell_type": "markdown",
   "id": "956fb2ff-96de-49b7-984d-a19c93830eb9",
   "metadata": {},
   "source": [
    "3] Checking covariance"
   ]
  },
  {
   "cell_type": "code",
   "execution_count": 32,
   "id": "f4356821-da55-47af-abbe-6e816d00a980",
   "metadata": {},
   "outputs": [
    {
     "data": {
      "text/html": [
       "<div>\n",
       "<style scoped>\n",
       "    .dataframe tbody tr th:only-of-type {\n",
       "        vertical-align: middle;\n",
       "    }\n",
       "\n",
       "    .dataframe tbody tr th {\n",
       "        vertical-align: top;\n",
       "    }\n",
       "\n",
       "    .dataframe thead th {\n",
       "        text-align: right;\n",
       "    }\n",
       "</style>\n",
       "<table border=\"1\" class=\"dataframe\">\n",
       "  <thead>\n",
       "    <tr style=\"text-align: right;\">\n",
       "      <th></th>\n",
       "      <th>Age</th>\n",
       "      <th>Fare</th>\n",
       "      <th>Family</th>\n",
       "      <th>Imputed_Age_mean</th>\n",
       "      <th>Imputed_Age_median</th>\n",
       "      <th>Imputed_Fare_mean</th>\n",
       "      <th>Imputed_Fare_median</th>\n",
       "    </tr>\n",
       "  </thead>\n",
       "  <tbody>\n",
       "    <tr>\n",
       "      <th>Age</th>\n",
       "      <td>204.349513</td>\n",
       "      <td>70.719262</td>\n",
       "      <td>-6.498901</td>\n",
       "      <td>204.349513</td>\n",
       "      <td>204.349513</td>\n",
       "      <td>66.383530</td>\n",
       "      <td>66.280487</td>\n",
       "    </tr>\n",
       "    <tr>\n",
       "      <th>Fare</th>\n",
       "      <td>70.719262</td>\n",
       "      <td>2448.197914</td>\n",
       "      <td>17.258917</td>\n",
       "      <td>55.603719</td>\n",
       "      <td>57.957599</td>\n",
       "      <td>2448.197914</td>\n",
       "      <td>2448.197914</td>\n",
       "    </tr>\n",
       "    <tr>\n",
       "      <th>Family</th>\n",
       "      <td>-6.498901</td>\n",
       "      <td>17.258917</td>\n",
       "      <td>2.735252</td>\n",
       "      <td>-5.146106</td>\n",
       "      <td>-5.112563</td>\n",
       "      <td>16.399278</td>\n",
       "      <td>16.404484</td>\n",
       "    </tr>\n",
       "    <tr>\n",
       "      <th>Imputed_Age_mean</th>\n",
       "      <td>204.349513</td>\n",
       "      <td>55.603719</td>\n",
       "      <td>-5.146106</td>\n",
       "      <td>161.812625</td>\n",
       "      <td>161.812625</td>\n",
       "      <td>52.565299</td>\n",
       "      <td>52.483705</td>\n",
       "    </tr>\n",
       "    <tr>\n",
       "      <th>Imputed_Age_median</th>\n",
       "      <td>204.349513</td>\n",
       "      <td>57.957599</td>\n",
       "      <td>-5.112563</td>\n",
       "      <td>161.812625</td>\n",
       "      <td>161.989566</td>\n",
       "      <td>54.793876</td>\n",
       "      <td>54.710043</td>\n",
       "    </tr>\n",
       "    <tr>\n",
       "      <th>Imputed_Fare_mean</th>\n",
       "      <td>66.383530</td>\n",
       "      <td>2448.197914</td>\n",
       "      <td>16.399278</td>\n",
       "      <td>52.565299</td>\n",
       "      <td>54.793876</td>\n",
       "      <td>2324.623997</td>\n",
       "      <td>2324.765012</td>\n",
       "    </tr>\n",
       "    <tr>\n",
       "      <th>Imputed_Fare_median</th>\n",
       "      <td>66.280487</td>\n",
       "      <td>2448.197914</td>\n",
       "      <td>16.404484</td>\n",
       "      <td>52.483705</td>\n",
       "      <td>54.710043</td>\n",
       "      <td>2324.765012</td>\n",
       "      <td>2324.957614</td>\n",
       "    </tr>\n",
       "  </tbody>\n",
       "</table>\n",
       "</div>"
      ],
      "text/plain": [
       "                            Age         Fare     Family  Imputed_Age_mean  \\\n",
       "Age                  204.349513    70.719262  -6.498901        204.349513   \n",
       "Fare                  70.719262  2448.197914  17.258917         55.603719   \n",
       "Family                -6.498901    17.258917   2.735252         -5.146106   \n",
       "Imputed_Age_mean     204.349513    55.603719  -5.146106        161.812625   \n",
       "Imputed_Age_median   204.349513    57.957599  -5.112563        161.812625   \n",
       "Imputed_Fare_mean     66.383530  2448.197914  16.399278         52.565299   \n",
       "Imputed_Fare_median   66.280487  2448.197914  16.404484         52.483705   \n",
       "\n",
       "                     Imputed_Age_median  Imputed_Fare_mean  \\\n",
       "Age                          204.349513          66.383530   \n",
       "Fare                          57.957599        2448.197914   \n",
       "Family                        -5.112563          16.399278   \n",
       "Imputed_Age_mean             161.812625          52.565299   \n",
       "Imputed_Age_median           161.989566          54.793876   \n",
       "Imputed_Fare_mean             54.793876        2324.623997   \n",
       "Imputed_Fare_median           54.710043        2324.765012   \n",
       "\n",
       "                     Imputed_Fare_median  \n",
       "Age                            66.280487  \n",
       "Fare                         2448.197914  \n",
       "Family                         16.404484  \n",
       "Imputed_Age_mean               52.483705  \n",
       "Imputed_Age_median             54.710043  \n",
       "Imputed_Fare_mean            2324.765012  \n",
       "Imputed_Fare_median          2324.957614  "
      ]
     },
     "execution_count": 32,
     "metadata": {},
     "output_type": "execute_result"
    }
   ],
   "source": [
    "X_train.cov()"
   ]
  },
  {
   "cell_type": "markdown",
   "id": "9dd8bc6f-b723-4862-ba1b-a8a390c9cdf0",
   "metadata": {},
   "source": [
    "4] Checking correlation"
   ]
  },
  {
   "cell_type": "code",
   "execution_count": 33,
   "id": "d31f4505-6f7d-4b6e-a0f5-e9f993d1cd5f",
   "metadata": {},
   "outputs": [
    {
     "data": {
      "text/html": [
       "<div>\n",
       "<style scoped>\n",
       "    .dataframe tbody tr th:only-of-type {\n",
       "        vertical-align: middle;\n",
       "    }\n",
       "\n",
       "    .dataframe tbody tr th {\n",
       "        vertical-align: top;\n",
       "    }\n",
       "\n",
       "    .dataframe thead th {\n",
       "        text-align: right;\n",
       "    }\n",
       "</style>\n",
       "<table border=\"1\" class=\"dataframe\">\n",
       "  <thead>\n",
       "    <tr style=\"text-align: right;\">\n",
       "      <th></th>\n",
       "      <th>Age</th>\n",
       "      <th>Fare</th>\n",
       "      <th>Family</th>\n",
       "      <th>Imputed_Age_mean</th>\n",
       "      <th>Imputed_Age_median</th>\n",
       "      <th>Imputed_Fare_mean</th>\n",
       "      <th>Imputed_Fare_median</th>\n",
       "    </tr>\n",
       "  </thead>\n",
       "  <tbody>\n",
       "    <tr>\n",
       "      <th>Age</th>\n",
       "      <td>1.000000</td>\n",
       "      <td>0.092644</td>\n",
       "      <td>-0.299113</td>\n",
       "      <td>1.000000</td>\n",
       "      <td>1.000000</td>\n",
       "      <td>0.089754</td>\n",
       "      <td>0.089604</td>\n",
       "    </tr>\n",
       "    <tr>\n",
       "      <th>Fare</th>\n",
       "      <td>0.092644</td>\n",
       "      <td>1.000000</td>\n",
       "      <td>0.208268</td>\n",
       "      <td>0.088069</td>\n",
       "      <td>0.091757</td>\n",
       "      <td>1.000000</td>\n",
       "      <td>1.000000</td>\n",
       "    </tr>\n",
       "    <tr>\n",
       "      <th>Family</th>\n",
       "      <td>-0.299113</td>\n",
       "      <td>0.208268</td>\n",
       "      <td>1.000000</td>\n",
       "      <td>-0.244610</td>\n",
       "      <td>-0.242883</td>\n",
       "      <td>0.205660</td>\n",
       "      <td>0.205710</td>\n",
       "    </tr>\n",
       "    <tr>\n",
       "      <th>Imputed_Age_mean</th>\n",
       "      <td>1.000000</td>\n",
       "      <td>0.088069</td>\n",
       "      <td>-0.244610</td>\n",
       "      <td>1.000000</td>\n",
       "      <td>0.999454</td>\n",
       "      <td>0.085707</td>\n",
       "      <td>0.085568</td>\n",
       "    </tr>\n",
       "    <tr>\n",
       "      <th>Imputed_Age_median</th>\n",
       "      <td>1.000000</td>\n",
       "      <td>0.091757</td>\n",
       "      <td>-0.242883</td>\n",
       "      <td>0.999454</td>\n",
       "      <td>1.000000</td>\n",
       "      <td>0.089292</td>\n",
       "      <td>0.089149</td>\n",
       "    </tr>\n",
       "    <tr>\n",
       "      <th>Imputed_Fare_mean</th>\n",
       "      <td>0.089754</td>\n",
       "      <td>1.000000</td>\n",
       "      <td>0.205660</td>\n",
       "      <td>0.085707</td>\n",
       "      <td>0.089292</td>\n",
       "      <td>1.000000</td>\n",
       "      <td>0.999989</td>\n",
       "    </tr>\n",
       "    <tr>\n",
       "      <th>Imputed_Fare_median</th>\n",
       "      <td>0.089604</td>\n",
       "      <td>1.000000</td>\n",
       "      <td>0.205710</td>\n",
       "      <td>0.085568</td>\n",
       "      <td>0.089149</td>\n",
       "      <td>0.999989</td>\n",
       "      <td>1.000000</td>\n",
       "    </tr>\n",
       "  </tbody>\n",
       "</table>\n",
       "</div>"
      ],
      "text/plain": [
       "                          Age      Fare    Family  Imputed_Age_mean  \\\n",
       "Age                  1.000000  0.092644 -0.299113          1.000000   \n",
       "Fare                 0.092644  1.000000  0.208268          0.088069   \n",
       "Family              -0.299113  0.208268  1.000000         -0.244610   \n",
       "Imputed_Age_mean     1.000000  0.088069 -0.244610          1.000000   \n",
       "Imputed_Age_median   1.000000  0.091757 -0.242883          0.999454   \n",
       "Imputed_Fare_mean    0.089754  1.000000  0.205660          0.085707   \n",
       "Imputed_Fare_median  0.089604  1.000000  0.205710          0.085568   \n",
       "\n",
       "                     Imputed_Age_median  Imputed_Fare_mean  \\\n",
       "Age                            1.000000           0.089754   \n",
       "Fare                           0.091757           1.000000   \n",
       "Family                        -0.242883           0.205660   \n",
       "Imputed_Age_mean               0.999454           0.085707   \n",
       "Imputed_Age_median             1.000000           0.089292   \n",
       "Imputed_Fare_mean              0.089292           1.000000   \n",
       "Imputed_Fare_median            0.089149           0.999989   \n",
       "\n",
       "                     Imputed_Fare_median  \n",
       "Age                             0.089604  \n",
       "Fare                            1.000000  \n",
       "Family                          0.205710  \n",
       "Imputed_Age_mean                0.085568  \n",
       "Imputed_Age_median              0.089149  \n",
       "Imputed_Fare_mean               0.999989  \n",
       "Imputed_Fare_median             1.000000  "
      ]
     },
     "execution_count": 33,
     "metadata": {},
     "output_type": "execute_result"
    }
   ],
   "source": [
    "X_train.corr()"
   ]
  },
  {
   "cell_type": "markdown",
   "id": "ddab7005-3072-4ef7-8524-b79df8757f87",
   "metadata": {},
   "source": [
    "5] Outliers"
   ]
  },
  {
   "cell_type": "code",
   "execution_count": 36,
   "id": "ae8ee8e6-5418-40cd-968d-a581ad02eb13",
   "metadata": {},
   "outputs": [
    {
     "data": {
      "text/plain": [
       "<Axes: >"
      ]
     },
     "execution_count": 36,
     "metadata": {},
     "output_type": "execute_result"
    },
    {
     "data": {
      "image/png": "[encoded data removed]",
      "text/plain": [
       "<Figure size 640x480 with 1 Axes>"
      ]
     },
     "metadata": {},
     "output_type": "display_data"
    }
   ],
   "source": [
    "X_train[['Age', 'Imputed_Age_median', 'Imputed_Age_mean']].boxplot()"
   ]
  },
  {
   "cell_type": "code",
   "execution_count": 37,
   "id": "85cf1510-01d0-4dfa-a46f-d7588e813fd3",
   "metadata": {},
   "outputs": [
    {
     "data": {
      "text/plain": [
       "<Axes: >"
      ]
     },
     "execution_count": 37,
     "metadata": {},
     "output_type": "execute_result"
    },
    {
     "data": {
      "image/png": "[encoded data removed]",
      "text/plain": [
       "<Figure size 640x480 with 1 Axes>"
      ]
     },
     "metadata": {},
     "output_type": "display_data"
    }
   ],
   "source": [
    "X_train[['Fare', 'Imputed_Fare_median', 'Imputed_Fare_mean']].boxplot()"
   ]
  },
  {
   "cell_type": "markdown",
   "id": "ed732cc5-20fc-4ce8-8ebd-91529d518e3a",
   "metadata": {},
   "source": [
    "# Using Sklearn"
   ]
  },
  {
   "cell_type": "code",
   "execution_count": 42,
   "id": "f6ca3988-11a3-4fa1-90d8-edf72523b588",
   "metadata": {},
   "outputs": [],
   "source": [
    "from sklearn.impute import SimpleImputer\n",
    "from sklearn.compose import ColumnTransformer\n",
    "X_train,X_test,y_train,y_test = train_test_split(X,y,test_size=0.2,random_state=2)"
   ]
  },
  {
   "cell_type": "code",
   "execution_count": 43,
   "id": "c0940ef4-bc0a-4ae3-a28b-fe28b8699a97",
   "metadata": {},
   "outputs": [],
   "source": [
    "imputer1 = SimpleImputer(strategy='median')\n",
    "imputer2 = SimpleImputer(strategy='mean')\n",
    "\n",
    "trf = ColumnTransformer([\n",
    "    ('imputer1',imputer1,['Age']),\n",
    "    ('imputer2',imputer2,['Fare'])\n",
    "],remainder='passthrough')"
   ]
  },
  {
   "cell_type": "code",
   "execution_count": 44,
   "id": "95d1e543-2f08-42d5-bdb5-59d18eb78e0b",
   "metadata": {},
   "outputs": [
    {
     "data": {
      "text/html": [
       "<style>#sk-container-id-1 {color: black;background-color: white;}#sk-container-id-1 pre{padding: 0;}#sk-container-id-1 div.sk-toggleable {background-color: white;}#sk-container-id-1 label.sk-toggleable__label {cursor: pointer;display: block;width: 100%;margin-bottom: 0;padding: 0.3em;box-sizing: border-box;text-align: center;}#sk-container-id-1 label.sk-toggleable__label-arrow:before {content: \"▸\";float: left;margin-right: 0.25em;color: #696969;}#sk-container-id-1 label.sk-toggleable__label-arrow:hover:before {color: black;}#sk-container-id-1 div.sk-estimator:hover label.sk-toggleable__label-arrow:before {color: black;}#sk-container-id-1 div.sk-toggleable__content {max-height: 0;max-width: 0;overflow: hidden;text-align: left;background-color: #f0f8ff;}#sk-container-id-1 div.sk-toggleable__content pre {margin: 0.2em;color: black;border-radius: 0.25em;background-color: #f0f8ff;}#sk-container-id-1 input.sk-toggleable__control:checked~div.sk-toggleable__content {max-height: 200px;max-width: 100%;overflow: auto;}#sk-container-id-1 input.sk-toggleable__control:checked~label.sk-toggleable__label-arrow:before {content: \"▾\";}#sk-container-id-1 div.sk-estimator input.sk-toggleable__control:checked~label.sk-toggleable__label {background-color: #d4ebff;}#sk-container-id-1 div.sk-label input.sk-toggleable__control:checked~label.sk-toggleable__label {background-color: #d4ebff;}#sk-container-id-1 input.sk-hidden--visually {border: 0;clip: rect(1px 1px 1px 1px);clip: rect(1px, 1px, 1px, 1px);height: 1px;margin: -1px;overflow: hidden;padding: 0;position: absolute;width: 1px;}#sk-container-id-1 div.sk-estimator {font-family: monospace;background-color: #f0f8ff;border: 1px dotted black;border-radius: 0.25em;box-sizing: border-box;margin-bottom: 0.5em;}#sk-container-id-1 div.sk-estimator:hover {background-color: #d4ebff;}#sk-container-id-1 div.sk-parallel-item::after {content: \"\";width: 100%;border-bottom: 1px solid gray;flex-grow: 1;}#sk-container-id-1 div.sk-label:hover label.sk-toggleable__label {background-color: #d4ebff;}#sk-container-id-1 div.sk-serial::before {content: \"\";position: absolute;border-left: 1px solid gray;box-sizing: border-box;top: 0;bottom: 0;left: 50%;z-index: 0;}#sk-container-id-1 div.sk-serial {display: flex;flex-direction: column;align-items: center;background-color: white;padding-right: 0.2em;padding-left: 0.2em;position: relative;}#sk-container-id-1 div.sk-item {position: relative;z-index: 1;}#sk-container-id-1 div.sk-parallel {display: flex;align-items: stretch;justify-content: center;background-color: white;position: relative;}#sk-container-id-1 div.sk-item::before, #sk-container-id-1 div.sk-parallel-item::before {content: \"\";position: absolute;border-left: 1px solid gray;box-sizing: border-box;top: 0;bottom: 0;left: 50%;z-index: -1;}#sk-container-id-1 div.sk-parallel-item {display: flex;flex-direction: column;z-index: 1;position: relative;background-color: white;}#sk-container-id-1 div.sk-parallel-item:first-child::after {align-self: flex-end;width: 50%;}#sk-container-id-1 div.sk-parallel-item:last-child::after {align-self: flex-start;width: 50%;}#sk-container-id-1 div.sk-parallel-item:only-child::after {width: 0;}#sk-container-id-1 div.sk-dashed-wrapped {border: 1px dashed gray;margin: 0 0.4em 0.5em 0.4em;box-sizing: border-box;padding-bottom: 0.4em;background-color: white;}#sk-container-id-1 div.sk-label label {font-family: monospace;font-weight: bold;display: inline-block;line-height: 1.2em;}#sk-container-id-1 div.sk-label-container {text-align: center;}#sk-container-id-1 div.sk-container {/* jupyter's `normalize.less` sets `[hidden] { display: none; }` but bootstrap.min.css set `[hidden] { display: none !important; }` so we also need the `!important` here to be able to override the default hidden behavior on the sphinx rendered scikit-learn.org. See: https://github.com/scikit-learn/scikit-learn/issues/21755 */display: inline-block !important;position: relative;}#sk-container-id-1 div.sk-text-repr-fallback {display: none;}</style><div id=\"sk-container-id-1\" class=\"sk-top-container\"><div class=\"sk-text-repr-fallback\"><pre>ColumnTransformer(remainder=&#x27;passthrough&#x27;,\n",
       "                  transformers=[(&#x27;imputer1&#x27;, SimpleImputer(strategy=&#x27;median&#x27;),\n",
       "                                 [&#x27;Age&#x27;]),\n",
       "                                (&#x27;imputer2&#x27;, SimpleImputer(), [&#x27;Fare&#x27;])])</pre><b>In a Jupyter environment, please rerun this cell to show the HTML representation or trust the notebook. <br />On GitHub, the HTML representation is unable to render, please try loading this page with nbviewer.org.</b></div><div class=\"sk-container\" hidden><div class=\"sk-item sk-dashed-wrapped\"><div class=\"sk-label-container\"><div class=\"sk-label sk-toggleable\"><input class=\"sk-toggleable__control sk-hidden--visually\" id=\"sk-estimator-id-1\" type=\"checkbox\" ><label for=\"sk-estimator-id-1\" class=\"sk-toggleable__label sk-toggleable__label-arrow\">ColumnTransformer</label><div class=\"sk-toggleable__content\"><pre>ColumnTransformer(remainder=&#x27;passthrough&#x27;,\n",
       "                  transformers=[(&#x27;imputer1&#x27;, SimpleImputer(strategy=&#x27;median&#x27;),\n",
       "                                 [&#x27;Age&#x27;]),\n",
       "                                (&#x27;imputer2&#x27;, SimpleImputer(), [&#x27;Fare&#x27;])])</pre></div></div></div><div class=\"sk-parallel\"><div class=\"sk-parallel-item\"><div class=\"sk-item\"><div class=\"sk-label-container\"><div class=\"sk-label sk-toggleable\"><input class=\"sk-toggleable__control sk-hidden--visually\" id=\"sk-estimator-id-2\" type=\"checkbox\" ><label for=\"sk-estimator-id-2\" class=\"sk-toggleable__label sk-toggleable__label-arrow\">imputer1</label><div class=\"sk-toggleable__content\"><pre>[&#x27;Age&#x27;]</pre></div></div></div><div class=\"sk-serial\"><div class=\"sk-item\"><div class=\"sk-estimator sk-toggleable\"><input class=\"sk-toggleable__control sk-hidden--visually\" id=\"sk-estimator-id-3\" type=\"checkbox\" ><label for=\"sk-estimator-id-3\" class=\"sk-toggleable__label sk-toggleable__label-arrow\">SimpleImputer</label><div class=\"sk-toggleable__content\"><pre>SimpleImputer(strategy=&#x27;median&#x27;)</pre></div></div></div></div></div></div><div class=\"sk-parallel-item\"><div class=\"sk-item\"><div class=\"sk-label-container\"><div class=\"sk-label sk-toggleable\"><input class=\"sk-toggleable__control sk-hidden--visually\" id=\"sk-estimator-id-4\" type=\"checkbox\" ><label for=\"sk-estimator-id-4\" class=\"sk-toggleable__label sk-toggleable__label-arrow\">imputer2</label><div class=\"sk-toggleable__content\"><pre>[&#x27;Fare&#x27;]</pre></div></div></div><div class=\"sk-serial\"><div class=\"sk-item\"><div class=\"sk-estimator sk-toggleable\"><input class=\"sk-toggleable__control sk-hidden--visually\" id=\"sk-estimator-id-5\" type=\"checkbox\" ><label for=\"sk-estimator-id-5\" class=\"sk-toggleable__label sk-toggleable__label-arrow\">SimpleImputer</label><div class=\"sk-toggleable__content\"><pre>SimpleImputer()</pre></div></div></div></div></div></div><div class=\"sk-parallel-item\"><div class=\"sk-item\"><div class=\"sk-label-container\"><div class=\"sk-label sk-toggleable\"><input class=\"sk-toggleable__control sk-hidden--visually\" id=\"sk-estimator-id-6\" type=\"checkbox\" ><label for=\"sk-estimator-id-6\" class=\"sk-toggleable__label sk-toggleable__label-arrow\">remainder</label><div class=\"sk-toggleable__content\"><pre>[&#x27;Family&#x27;]</pre></div></div></div><div class=\"sk-serial\"><div class=\"sk-item\"><div class=\"sk-estimator sk-toggleable\"><input class=\"sk-toggleable__control sk-hidden--visually\" id=\"sk-estimator-id-7\" type=\"checkbox\" ><label for=\"sk-estimator-id-7\" class=\"sk-toggleable__label sk-toggleable__label-arrow\">passthrough</label><div class=\"sk-toggleable__content\"><pre>passthrough</pre></div></div></div></div></div></div></div></div></div></div>"
      ],
      "text/plain": [
       "ColumnTransformer(remainder='passthrough',\n",
       "                  transformers=[('imputer1', SimpleImputer(strategy='median'),\n",
       "                                 ['Age']),\n",
       "                                ('imputer2', SimpleImputer(), ['Fare'])])"
      ]
     },
     "execution_count": 44,
     "metadata": {},
     "output_type": "execute_result"
    }
   ],
   "source": [
    "trf.fit(X_train)"
   ]
  },
  {
   "cell_type": "code",
   "execution_count": 45,
   "id": "3ce7f497-1b53-4df8-bb74-0681feb49cae",
   "metadata": {},
   "outputs": [],
   "source": [
    "X_train = trf.transform(X_train)\n",
    "X_test = trf.transform(X_test)"
   ]
  },
  {
   "cell_type": "code",
   "execution_count": 46,
   "id": "ea28ba2d-8798-466d-b752-048dd559b430",
   "metadata": {},
   "outputs": [
    {
     "data": {
      "text/plain": [
       "array([[ 40.    ,  27.7208,   0.    ],\n",
       "       [  4.    ,  16.7   ,   2.    ],\n",
       "       [ 47.    ,   9.    ,   0.    ],\n",
       "       ...,\n",
       "       [ 71.    ,  49.5042,   0.    ],\n",
       "       [ 28.75  , 221.7792,   0.    ],\n",
       "       [ 28.75  ,  25.925 ,   0.    ]])"
      ]
     },
     "execution_count": 46,
     "metadata": {},
     "output_type": "execute_result"
    }
   ],
   "source": [
    "X_train"
   ]
  },
  {
   "cell_type": "code",
   "execution_count": null,
   "id": "813dc7bf-0626-4c24-9d7f-ddc965d25632",
   "metadata": {},
   "outputs": [],
   "source": []
  }
 ],
 "metadata": {
  "kernelspec": {
   "display_name": "Python 3 (ipykernel)",
   "language": "python",
   "name": "python3"
  },
  "language_info": {
   "codemirror_mode": {
    "name": "ipython",
    "version": 3
   },
   "file_extension": ".py",
   "mimetype": "text/x-python",
   "name": "python",
   "nbconvert_exporter": "python",
   "pygments_lexer": "ipython3",
   "version": "3.11.7"
  }
 },
 "nbformat": 4,
 "nbformat_minor": 5
}
